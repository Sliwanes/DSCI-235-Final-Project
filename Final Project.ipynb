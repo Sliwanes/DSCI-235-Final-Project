{
 "cells": [
  {
   "cell_type": "code",
   "execution_count": 2,
   "id": "4b27bb12-da3b-497b-8d80-481e64a8423b",
   "metadata": {},
   "outputs": [],
   "source": [
    "import numpy as np\n",
    "import pandas as pd\n",
    "import matplotlib.pyplot as plt"
   ]
  },
  {
   "cell_type": "markdown",
   "id": "0f3cb41d-059f-4841-8f25-80716c0988b0",
   "metadata": {},
   "source": [
    "# Spotify's Top Songs"
   ]
  },
  {
   "cell_type": "markdown",
   "id": "2620c035-2eb4-4098-bd99-3ffaa17f71bb",
   "metadata": {},
   "source": [
    "Since the year of 2016, many songs from a multitude of artists on Spotify hit the Top 200 Charts. It takes a lot to make an artist popular, but it also takes some work to create music and have a song hit the top charts. With the data collected, I will be able to determine if a song requires a certain aspect that catches a listener’s ear.\n",
    "\n",
    "There are many aspects of a song that make it appealing to a listener, such as the key of the song, if the song is major or minor, the time signature, the duration of the song, how many streams the song has had, and how many weeks the song was on the top charts. Some of the data also comes from the Spotify Web API, in which metadata is retrieved from Spotify content. Aspects of songs such as danceability, energy, speechiness, acousticness, instrumentalness, liveness, valence, and loudness are also measured and included in this dataset. \n",
    "\n",
    "The dataset, spt, references the spreadsheet which contains a list of songs that have hit the Top 200 Charts on Spotify. This provides data of different aspects of a song that can be used to analyze if there are any patterns that make a song more popular."
   ]
  },
  {
   "cell_type": "code",
   "execution_count": 3,
   "id": "bcc2be2c-3e0f-451b-a6bc-c5d340656496",
   "metadata": {},
   "outputs": [
    {
     "data": {
      "text/html": [
       "<div>\n",
       "<style scoped>\n",
       "    .dataframe tbody tr th:only-of-type {\n",
       "        vertical-align: middle;\n",
       "    }\n",
       "\n",
       "    .dataframe tbody tr th {\n",
       "        vertical-align: top;\n",
       "    }\n",
       "\n",
       "    .dataframe thead th {\n",
       "        text-align: right;\n",
       "    }\n",
       "</style>\n",
       "<table border=\"1\" class=\"dataframe\">\n",
       "  <thead>\n",
       "    <tr style=\"text-align: right;\">\n",
       "      <th></th>\n",
       "      <th>id</th>\n",
       "      <th>artist_names</th>\n",
       "      <th>track_name</th>\n",
       "      <th>source</th>\n",
       "      <th>key</th>\n",
       "      <th>mode</th>\n",
       "      <th>time_signature</th>\n",
       "      <th>danceability</th>\n",
       "      <th>energy</th>\n",
       "      <th>speechiness</th>\n",
       "      <th>acousticness</th>\n",
       "      <th>instrumentalness</th>\n",
       "      <th>liveness</th>\n",
       "      <th>valence</th>\n",
       "      <th>loudness</th>\n",
       "      <th>tempo</th>\n",
       "      <th>duration_ms</th>\n",
       "      <th>weeks_on_chart</th>\n",
       "      <th>streams</th>\n",
       "    </tr>\n",
       "  </thead>\n",
       "  <tbody>\n",
       "    <tr>\n",
       "      <th>0</th>\n",
       "      <td>000xQL6tZNLJzIrtIgxqSl</td>\n",
       "      <td>ZAYN, PARTYNEXTDOOR</td>\n",
       "      <td>Still Got Time (feat. PARTYNEXTDOOR)</td>\n",
       "      <td>RCA Records Label</td>\n",
       "      <td>G</td>\n",
       "      <td>Major</td>\n",
       "      <td>4 beats</td>\n",
       "      <td>0.748</td>\n",
       "      <td>0.627</td>\n",
       "      <td>0.0639</td>\n",
       "      <td>0.13100</td>\n",
       "      <td>0.0</td>\n",
       "      <td>0.0852</td>\n",
       "      <td>0.524</td>\n",
       "      <td>-6.029</td>\n",
       "      <td>120.963</td>\n",
       "      <td>188491</td>\n",
       "      <td>17</td>\n",
       "      <td>107527761</td>\n",
       "    </tr>\n",
       "    <tr>\n",
       "      <th>1</th>\n",
       "      <td>003eoIwxETJujVWmNFMoZy</td>\n",
       "      <td>Alessia Cara</td>\n",
       "      <td>Growing Pains</td>\n",
       "      <td>Def Jam Recordings</td>\n",
       "      <td>C#/Db</td>\n",
       "      <td>Minor</td>\n",
       "      <td>4 beats</td>\n",
       "      <td>0.353</td>\n",
       "      <td>0.755</td>\n",
       "      <td>0.7330</td>\n",
       "      <td>0.08220</td>\n",
       "      <td>0.0</td>\n",
       "      <td>0.3900</td>\n",
       "      <td>0.437</td>\n",
       "      <td>-6.276</td>\n",
       "      <td>191.153</td>\n",
       "      <td>193680</td>\n",
       "      <td>2</td>\n",
       "      <td>9944865</td>\n",
       "    </tr>\n",
       "    <tr>\n",
       "      <th>2</th>\n",
       "      <td>003vvx7Niy0yvhvHt4a68B</td>\n",
       "      <td>The Killers</td>\n",
       "      <td>Mr. Brightside</td>\n",
       "      <td>Island Records</td>\n",
       "      <td>C#/Db</td>\n",
       "      <td>Major</td>\n",
       "      <td>4 beats</td>\n",
       "      <td>0.352</td>\n",
       "      <td>0.911</td>\n",
       "      <td>0.0747</td>\n",
       "      <td>0.00121</td>\n",
       "      <td>0.0</td>\n",
       "      <td>0.0995</td>\n",
       "      <td>0.236</td>\n",
       "      <td>-5.230</td>\n",
       "      <td>148.033</td>\n",
       "      <td>222973</td>\n",
       "      <td>125</td>\n",
       "      <td>512388123</td>\n",
       "    </tr>\n",
       "    <tr>\n",
       "      <th>3</th>\n",
       "      <td>00B7TZ0Xawar6NZ00JFomN</td>\n",
       "      <td>Cardi B, Chance the Rapper</td>\n",
       "      <td>Best Life (feat. Chance The Rapper)</td>\n",
       "      <td>Atlantic/KSR</td>\n",
       "      <td>A</td>\n",
       "      <td>Major</td>\n",
       "      <td>4 beats</td>\n",
       "      <td>0.620</td>\n",
       "      <td>0.625</td>\n",
       "      <td>0.5530</td>\n",
       "      <td>0.28700</td>\n",
       "      <td>0.0</td>\n",
       "      <td>0.3140</td>\n",
       "      <td>0.665</td>\n",
       "      <td>-7.438</td>\n",
       "      <td>167.911</td>\n",
       "      <td>284856</td>\n",
       "      <td>2</td>\n",
       "      <td>11985346</td>\n",
       "    </tr>\n",
       "    <tr>\n",
       "      <th>4</th>\n",
       "      <td>00Blm7zeNqgYLPtW6zg8cj</td>\n",
       "      <td>Post Malone, The Weeknd</td>\n",
       "      <td>One Right Now (with The Weeknd)</td>\n",
       "      <td>Republic Records</td>\n",
       "      <td>C#/Db</td>\n",
       "      <td>Major</td>\n",
       "      <td>4 beats</td>\n",
       "      <td>0.687</td>\n",
       "      <td>0.781</td>\n",
       "      <td>0.0530</td>\n",
       "      <td>0.03610</td>\n",
       "      <td>0.0</td>\n",
       "      <td>0.0755</td>\n",
       "      <td>0.688</td>\n",
       "      <td>-4.806</td>\n",
       "      <td>97.014</td>\n",
       "      <td>193507</td>\n",
       "      <td>30</td>\n",
       "      <td>301860377</td>\n",
       "    </tr>\n",
       "  </tbody>\n",
       "</table>\n",
       "</div>"
      ],
      "text/plain": [
       "                       id                artist_names  \\\n",
       "0  000xQL6tZNLJzIrtIgxqSl         ZAYN, PARTYNEXTDOOR   \n",
       "1  003eoIwxETJujVWmNFMoZy                Alessia Cara   \n",
       "2  003vvx7Niy0yvhvHt4a68B                 The Killers   \n",
       "3  00B7TZ0Xawar6NZ00JFomN  Cardi B, Chance the Rapper   \n",
       "4  00Blm7zeNqgYLPtW6zg8cj     Post Malone, The Weeknd   \n",
       "\n",
       "                             track_name              source    key   mode  \\\n",
       "0  Still Got Time (feat. PARTYNEXTDOOR)   RCA Records Label      G  Major   \n",
       "1                         Growing Pains  Def Jam Recordings  C#/Db  Minor   \n",
       "2                        Mr. Brightside      Island Records  C#/Db  Major   \n",
       "3   Best Life (feat. Chance The Rapper)        Atlantic/KSR      A  Major   \n",
       "4       One Right Now (with The Weeknd)    Republic Records  C#/Db  Major   \n",
       "\n",
       "  time_signature  danceability  energy  speechiness  acousticness  \\\n",
       "0        4 beats         0.748   0.627       0.0639       0.13100   \n",
       "1        4 beats         0.353   0.755       0.7330       0.08220   \n",
       "2        4 beats         0.352   0.911       0.0747       0.00121   \n",
       "3        4 beats         0.620   0.625       0.5530       0.28700   \n",
       "4        4 beats         0.687   0.781       0.0530       0.03610   \n",
       "\n",
       "   instrumentalness  liveness  valence  loudness    tempo  duration_ms  \\\n",
       "0               0.0    0.0852    0.524    -6.029  120.963       188491   \n",
       "1               0.0    0.3900    0.437    -6.276  191.153       193680   \n",
       "2               0.0    0.0995    0.236    -5.230  148.033       222973   \n",
       "3               0.0    0.3140    0.665    -7.438  167.911       284856   \n",
       "4               0.0    0.0755    0.688    -4.806   97.014       193507   \n",
       "\n",
       "   weeks_on_chart    streams  \n",
       "0              17  107527761  \n",
       "1               2    9944865  \n",
       "2             125  512388123  \n",
       "3               2   11985346  \n",
       "4              30  301860377  "
      ]
     },
     "execution_count": 3,
     "metadata": {},
     "output_type": "execute_result"
    }
   ],
   "source": [
    "spt = pd.read_csv('spotify_top_songs_audio_features.csv')\n",
    "spt.head()"
   ]
  },
  {
   "cell_type": "markdown",
   "id": "7d09723f-6302-4e94-a533-c7cb0795f433",
   "metadata": {},
   "source": [
    "## Amount of Streams"
   ]
  },
  {
   "cell_type": "markdown",
   "id": "f152231b-bf24-4638-9132-d0a263437666",
   "metadata": {},
   "source": [
    "The first thing I wanted to determine was if having more streams results in a song being on the charts for a longer period of time. The figure below shows that there is a linear relationship between the amount of streams a song has and how long the song has been on the charts. This makes sense because if a song is played more often, then it will more likely be on the chart for longer."
   ]
  },
  {
   "cell_type": "code",
   "execution_count": 4,
   "id": "a4b931e2-00cb-4915-826c-6d89c8371235",
   "metadata": {},
   "outputs": [
    {
     "data": {
      "image/png": "[encoded data removed]",
      "text/plain": [
       "<Figure size 600x400 with 1 Axes>"
      ]
     },
     "metadata": {},
     "output_type": "display_data"
    }
   ],
   "source": [
    "plt.figure(figsize=(6, 4))  \n",
    "\n",
    "plt.scatter(spt['streams'], spt['weeks_on_chart'], alpha=0.5)\n",
    "\n",
    "plt.title('Streams vs Weeks on Chart')\n",
    "plt.xlabel('Streams')\n",
    "plt.ylabel('Weeks on Chart')\n",
    "\n",
    "plt.show()"
   ]
  },
  {
   "cell_type": "markdown",
   "id": "6276c0a6-2b9c-4dfe-b6ad-b154f00cc8d7",
   "metadata": {},
   "source": [
    "Now that we know that the amount of streams relates to how long a song is on the charts, we will determine how many songs are on the charts that are major mode or minor mode.  "
   ]
  },
  {
   "cell_type": "code",
   "execution_count": 5,
   "id": "4c414a64-e9c8-4d88-aba1-9807436b6aa7",
   "metadata": {},
   "outputs": [],
   "source": [
    "mode_counts = spt['mode'].value_counts()"
   ]
  },
  {
   "cell_type": "code",
   "execution_count": 6,
   "id": "14272b9c-715e-4bf4-a329-df92d6c04fad",
   "metadata": {},
   "outputs": [
    {
     "name": "stdout",
     "output_type": "stream",
     "text": [
      "The number of major songs in the dataset is 3747\n",
      "The number of minor songs in the dataset is 2766\n"
     ]
    }
   ],
   "source": [
    "print(\"The number of major songs in the dataset is\", mode_counts.get('Major', 0))\n",
    "print(\"The number of minor songs in the dataset is\", mode_counts.get('Minor', 0))"
   ]
  },
  {
   "cell_type": "code",
   "execution_count": 7,
   "id": "57456e7c-33e0-4477-9219-e034af0e90f4",
   "metadata": {},
   "outputs": [
    {
     "data": {
      "image/png": "[encoded data removed]",
      "text/plain": [
       "<Figure size 400x300 with 1 Axes>"
      ]
     },
     "metadata": {},
     "output_type": "display_data"
    }
   ],
   "source": [
    "plt.figure(figsize=(4, 3))  \n",
    "plt.bar(['Major', 'Minor'], mode_counts, color=['blue', 'green'], alpha = 0.4)\n",
    "\n",
    "plt.title('Number of Major and Minor Songs')\n",
    "plt.xlabel('Mode')\n",
    "plt.ylabel('Number of Songs')\n",
    "\n",
    "plt.show()"
   ]
  },
  {
   "cell_type": "code",
   "execution_count": 8,
   "id": "22911daf-ce73-47e0-9a8b-fcb3a5bf61ba",
   "metadata": {},
   "outputs": [],
   "source": [
    "difference = mode_counts.get('Major', 0) - mode_counts.get('Minor', 0)"
   ]
  },
  {
   "cell_type": "code",
   "execution_count": 123,
   "id": "b6991acd-3835-4ff5-b2be-a3f4995cb14d",
   "metadata": {},
   "outputs": [
    {
     "name": "stdout",
     "output_type": "stream",
     "text": [
      "The difference between the amount of major and minor songs is 981\n"
     ]
    }
   ],
   "source": [
    "print(\"The difference between the amount of major and minor songs is\", difference)"
   ]
  },
  {
   "cell_type": "markdown",
   "id": "1fcf163b-638c-41ac-84dd-7cc420787be6",
   "metadata": {},
   "source": [
    "From the bar graph and the numbers obtained we can clearly see that there are more major songs that have hit the Top 200 Charts compared to minor songs. There is a significant difference between these two modes because it is almost 1000, which leads us to believe that major songs are more popular. "
   ]
  },
  {
   "cell_type": "markdown",
   "id": "63d199b6-c804-449e-9810-87f72ce12bb4",
   "metadata": {},
   "source": [
    "Now we can take it one step further and see what the correlation is between the amount of streams for each mode. "
   ]
  },
  {
   "cell_type": "code",
   "execution_count": 10,
   "id": "db855968-86f0-415a-90a9-48ae70df1a10",
   "metadata": {},
   "outputs": [],
   "source": [
    "maj_songs = spt[spt['mode'] == 'Major']\n",
    "min_songs = spt[spt['mode'] == 'Minor']\n",
    "\n",
    "avg_streams_maj = int(maj_songs['streams'].mean())\n",
    "avg_streams_min = int(min_songs['streams'].mean())"
   ]
  },
  {
   "cell_type": "code",
   "execution_count": 11,
   "id": "d9285c13-7e33-4286-b25f-441c36312c58",
   "metadata": {},
   "outputs": [
    {
     "name": "stdout",
     "output_type": "stream",
     "text": [
      "The average amount of streams for major songs is 109618620\n",
      "The average amount of streams for minor songs is 108078906\n"
     ]
    }
   ],
   "source": [
    "print(\"The average amount of streams for major songs is\", avg_streams_maj)\n",
    "print(\"The average amount of streams for minor songs is\", avg_streams_min)"
   ]
  },
  {
   "cell_type": "markdown",
   "id": "65da52d2-89da-4c60-8cd8-2438143c3b32",
   "metadata": {},
   "source": [
    "By calculating the amount of streams for each mode we can determine that there is correlation between these two factors. Major songs have an average amount of streams that are significantly more than the average amount of streams for minor songs. Moving along, I will investigate what makes major songs more popular and what other aspects cause a major song to be preferred."
   ]
  },
  {
   "cell_type": "markdown",
   "id": "e06f384d-4c6f-4dd6-9f51-dfe993aa5946",
   "metadata": {},
   "source": [
    "## Aspects of Major Mode"
   ]
  },
  {
   "cell_type": "markdown",
   "id": "9aba7c54-8d1b-4c38-9904-c083908d0354",
   "metadata": {},
   "source": [
    "Now that we know that major songs are more popular compared to minor songs, I am going to look at multiple aspects of majors songs such as time signature, the tempo, how long the duration of a song, and how danceable the song is.  "
   ]
  },
  {
   "cell_type": "code",
   "execution_count": 107,
   "id": "78a63c3f-f7f0-4d31-aa0a-bcf181e417ff",
   "metadata": {},
   "outputs": [],
   "source": [
    "major_songs = spt[spt['mode'].str.contains('Major')]\n",
    "minor_songs = spt[spt['mode'].str.contains('Minor')]"
   ]
  },
  {
   "cell_type": "markdown",
   "id": "5f7bdd6c-423c-4ff0-9b63-33ad3cc52c8d",
   "metadata": {},
   "source": [
    "The first thing that I am interested in is the time signature of major songs. The general time signature for most songs is 4 beats, therefore we will look specifically at major songs that have a time signature of 4 beats and see if most major songs have this type of time signature. "
   ]
  },
  {
   "cell_type": "code",
   "execution_count": 108,
   "id": "f200af3c-8d4f-4e12-ab84-52cd0d365d2e",
   "metadata": {},
   "outputs": [],
   "source": [
    "time_signature = major_songs.groupby('time_signature').size()\n",
    "major_4_beats = time_signature_counts.get('4 beats', 0) / len(major_songs) * 100\n",
    "major_3_beats = time_signature_counts.get('3 beats', 0) / len(major_songs) * 100"
   ]
  },
  {
   "cell_type": "code",
   "execution_count": 109,
   "id": "e81b3484-722e-468d-afd0-f53a5f85a33f",
   "metadata": {},
   "outputs": [
    {
     "name": "stdout",
     "output_type": "stream",
     "text": [
      "The percentage of major songs that have a time signature of 4 beats is 93.0077395249533\n",
      "The percentage of major songs that have a time signature of 3 beats is 5.124099279423539\n"
     ]
    }
   ],
   "source": [
    "print(\"The percentage of major songs that have a time signature of 4 beats is\", major_4_beats)\n",
    "print(\"The percentage of major songs that have a time signature of 3 beats is\", major_3_beats)"
   ]
  },
  {
   "cell_type": "markdown",
   "id": "84d91213-5a93-40b9-8d2c-4a067638fede",
   "metadata": {},
   "source": [
    "The percentage of major songs that have a time signature of 4 beats is much greater than the percentage of majors songs with a time signature of 3 beats. Now we'll look at a different aspect, the tempo of major songs."
   ]
  },
  {
   "cell_type": "code",
   "execution_count": 110,
   "id": "cc04be47-48eb-4963-8c29-fbb4c029af6e",
   "metadata": {},
   "outputs": [],
   "source": [
    "greater_100_tempo = len(major_songs[major_songs['tempo'] > 100])\n",
    "percentage_greater_100_tempo = greater_100_tempo / len(major_songs) * 100\n",
    "less_100_tempo = len(major_songs[major_songs['tempo'] < 100])\n",
    "percentage_less_100_tempo = less_100_tempo / len(major_songs) * 100"
   ]
  },
  {
   "cell_type": "code",
   "execution_count": 111,
   "id": "d7666ddd-a14b-4362-862a-b3589d357709",
   "metadata": {},
   "outputs": [
    {
     "name": "stdout",
     "output_type": "stream",
     "text": [
      "The percentage of major songs that have a tempo greater than 100 is 72.16439818521484\n",
      "The percentage of major songs that have a tempo less than 100 is 27.782225780624497\n"
     ]
    }
   ],
   "source": [
    "print(\"The percentage of major songs that have a tempo greater than 100 is\", percentage_greater_100_tempo)\n",
    "print(\"The percentage of major songs that have a tempo less than 100 is\", percentage_less_100_tempo)"
   ]
  },
  {
   "cell_type": "markdown",
   "id": "053c4bc7-61b1-462f-b5ce-784456037e15",
   "metadata": {},
   "source": [
    "Major songs that have a tempo greater than 100 prove to be more popular due to the percentage being greater than the percentage of major songs that have a tempo less than 100. This can bring us to the conclusion that listeners prefer songs that are fast and upbeat. Another aspect we can look at is the duration, how long a song is, in seconds. Do listeners prefer longer or shorter songs?"
   ]
  },
  {
   "cell_type": "code",
   "execution_count": 112,
   "id": "9657f03e-3b99-43c4-967b-8aa5113dd3fa",
   "metadata": {},
   "outputs": [],
   "source": [
    "greater_2_min = len(major_songs[major_songs['duration_ms'] > 200000])\n",
    "percentage_greater_2_min = greater_2_min / len(major_songs) * 100\n",
    "less_2_min = len(major_songs[major_songs['duration_ms'] < 200000])\n",
    "percentage_less_2_min = less_2_min / len(major_songs) * 100"
   ]
  },
  {
   "cell_type": "code",
   "execution_count": 113,
   "id": "a259a6c5-ce1b-43e9-a45f-0bef35df82b7",
   "metadata": {},
   "outputs": [
    {
     "name": "stdout",
     "output_type": "stream",
     "text": [
      "The percentage of major songs that have a duration greater than 20000 ms is 50.253536162263146\n",
      "The percentage of major songs that have a tempo less than 20000 ms is 49.746463837736854\n"
     ]
    }
   ],
   "source": [
    "print(\"The percentage of major songs that have a duration greater than 20000 ms is\", percentage_greater_2_min)\n",
    "print(\"The percentage of major songs that have a tempo less than 20000 ms is\", percentage_less_2_min)"
   ]
  },
  {
   "cell_type": "markdown",
   "id": "6f91da12-513e-4f8c-bc58-c2598dabde72",
   "metadata": {},
   "source": [
    "As we can see the percentage of majors songs that have a duration greater than 2 minutes compared to majors songs with a duration of less than 2 minutes is about the same. From these results we can claim that the length of a song is not significant in causing it's popularity. Lastly we will look at the danceability of songs, computed from the Spotify Web API, by comparing this aspect between major and minor songs and seeing if this affects the amount of streams each mode gets. "
   ]
  },
  {
   "cell_type": "code",
   "execution_count": 118,
   "id": "f5a5ad85-c81b-4803-bc0f-22030763e5bd",
   "metadata": {},
   "outputs": [],
   "source": [
    "danceability_maj = major_songs['danceability'].mean()\n",
    "danceability_min = minor_songs['danceability'].mean()"
   ]
  },
  {
   "cell_type": "code",
   "execution_count": 119,
   "id": "3f2cff37-18b9-4e9d-bc98-d275f4293e23",
   "metadata": {},
   "outputs": [
    {
     "name": "stdout",
     "output_type": "stream",
     "text": [
      "The average danceability of major songs is 0.6700926074192688\n",
      "The average danceability of minor songs is 0.697496384671005\n"
     ]
    }
   ],
   "source": [
    "print(\"The average danceability of major songs is\", danceability_maj)\n",
    "print(\"The average danceability of minor songs is\", danceability_min)"
   ]
  },
  {
   "cell_type": "code",
   "execution_count": 122,
   "id": "29bca8b0-9554-49fe-89bf-fbe37fd3c994",
   "metadata": {},
   "outputs": [],
   "source": [
    "average_streams_major = major_songs['streams'].mean()\n",
    "average_streams_minor = minor_songs['streams'].mean()"
   ]
  },
  {
   "cell_type": "code",
   "execution_count": 121,
   "id": "6bf17305-31d5-4225-b705-ee9ee7ca2d53",
   "metadata": {},
   "outputs": [
    {
     "name": "stdout",
     "output_type": "stream",
     "text": [
      "The average amount of streams for major songs is 109618620.55617827\n",
      "The average amount of streams for minor songs is 108078906.93456255\n"
     ]
    }
   ],
   "source": [
    "print(\"The average amount of streams for major songs is\", average_streams_major)\n",
    "print(\"The average amount of streams for minor songs is\", average_streams_minor)"
   ]
  },
  {
   "cell_type": "markdown",
   "id": "d230fd03-6391-4ab6-bbc7-25d179916fb7",
   "metadata": {},
   "source": [
    "The average danceability and amount of streams between the two different modes of songs are pretty close to each other. But if we look closer at the numbers we can see that minor songs actually have a larger average for danceability, yet it has a lower average amount of streams. Therefore danceability and the amount of streams are not necessarily synonymous, danceability does not make a song more popular. "
   ]
  },
  {
   "cell_type": "markdown",
   "id": "35e13a77-a2bb-410b-a2f7-acd353cfe92c",
   "metadata": {},
   "source": [
    "## Conclusion"
   ]
  },
  {
   "cell_type": "markdown",
   "id": "d802b532-7adc-4f59-bd8b-21c5b622daba",
   "metadata": {},
   "source": [
    "While most popular songs have similar aspects that make it hit the top charts, there are still other factors that may not be as significant. After exploring different aspects of songs, specifically aspects of songs in the major mode, I have found that tempo and time signature play a role in making a song popular. There is a greater percentage of major songs that have a tempo greater than 100 and a time signature of 4 beats compared to a tempo less than 100 or a time signature of 3 beats. However, there are other aspects that don't affect the popularity of a song or which mode a song is in, such as the duration of danceability. In conclusion, listeners prefer songs that have a stable tempo as well as a happy and upbeat attitude. If artists want to hit the charts, they should refrain from writing songs that are slower and produce a darker tone. "
   ]
  }
 ],
 "metadata": {
  "kernelspec": {
   "display_name": "Python 3 (ipykernel)",
   "language": "python",
   "name": "python3"
  },
  "language_info": {
   "codemirror_mode": {
    "name": "ipython",
    "version": 3
   },
   "file_extension": ".py",
   "mimetype": "text/x-python",
   "name": "python",
   "nbconvert_exporter": "python",
   "pygments_lexer": "ipython3",
   "version": "3.11.7"
  }
 },
 "nbformat": 4,
 "nbformat_minor": 5
}
